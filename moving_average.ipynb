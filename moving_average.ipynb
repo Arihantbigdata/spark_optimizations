{
 "cells": [
  {
   "cell_type": "markdown",
   "id": "81fa3c08",
   "metadata": {},
   "source": [
    "#### Here i am telling the time series concept of moving average in pyspark , commonly used in fintech projects\n",
    "\n",
    "\n",
    "What Is a Moving Average?\n",
    "The moving average is a time series technique for analyzing and determining trends in data. Sometimes called rolling means, rolling averages, or running averages, they are calculated as the mean of the current and a specified number of immediately preceding values for each point in time. The main idea is to examine how these averages behave over time instead of examining the behavior of the original or raw data points."
   ]
  },
  {
   "cell_type": "code",
   "execution_count": null,
   "id": "34b1b1ea",
   "metadata": {},
   "outputs": [],
   "source": [
    "\n",
    "import pyspark\n",
    "from pyspark.conf import SparkConf\n",
    "from pyspark.context import SparkContext\n",
    "from pyspark.sql import SparkSession\n",
    "from pyspark.sql.window import Window\n",
    "from pyspark.sql.functions import *\n",
    "from pyspark.sql.window import Window\n",
    "from pyspark.sql import functions as f\n",
    "conf = SparkConf()\n",
    "conf.setMaster(\"local\").setAppName(\"My app\")\n",
    "conf.get(\"spark.master\")\n",
    "spark = SparkSession.builder.getOrCreate()"
   ]
  },
  {
   "cell_type": "code",
   "execution_count": 19,
   "id": "dbf3b9bb",
   "metadata": {},
   "outputs": [
    {
     "name": "stdout",
     "output_type": "stream",
     "text": [
      "+---+--------+----------+-----+\n",
      "|sno|  Stocks|  Date_ist|price|\n",
      "+---+--------+----------+-----+\n",
      "|  1|   Apple|2013-01-10|  100|\n",
      "|  2|   Apple|2013-01-11|  200|\n",
      "|  3|   Apple|2013-01-12|  300|\n",
      "|  4|   Apple|2013-01-13|  400|\n",
      "|  5|Ericsson|2013-01-14|  500|\n",
      "|  6|Ericsson|2013-01-15|  600|\n",
      "|  7|Ericsson|2013-01-16|  700|\n",
      "|  8|Ericsson|2013-01-17|  800|\n",
      "|  9| Walmart|2013-01-18|  900|\n",
      "| 10| Walmart|2013-01-19| 1000|\n",
      "| 11| Walmart|2013-01-20| 1100|\n",
      "+---+--------+----------+-----+\n",
      "\n"
     ]
    }
   ],
   "source": [
    "filePath=\"C:\\\\Users\\\\ershiaa\\\\Downloads\\\\dataset_1.csv\"\n",
    "read =  spark.read.format(\"csv\").option(\"header\",\"true\").load(filePath)\n",
    "read_select = read.select(\"sno\",\"Stocks\",\"Date_ist\",\"price\")\n",
    "read_select.show()"
   ]
  },
  {
   "cell_type": "code",
   "execution_count": 3,
   "id": "37120827",
   "metadata": {},
   "outputs": [
    {
     "name": "stderr",
     "output_type": "stream",
     "text": [
      "C:\\Users\\ershiaa\\Anaconda3\\lib\\site-packages\\pyspark\\sql\\dataframe.py:229: FutureWarning: Deprecated in 2.0, use createOrReplaceTempView instead.\n",
      "  warnings.warn(\"Deprecated in 2.0, use createOrReplaceTempView instead.\", FutureWarning)\n"
     ]
    }
   ],
   "source": [
    "read_select.registerTempTable(\"dataset\")\n"
   ]
  },
  {
   "cell_type": "code",
   "execution_count": 4,
   "id": "fc4f9fad",
   "metadata": {},
   "outputs": [],
   "source": [
    "avgLastThree = spark.sql(\"\"\" select  *, avg(price) \n",
    "                             over(partition by Stocks order by Date_ist ROWS BETWEEN 2 PRECEDING AND CURRENT ROW) as moving_avg from\n",
    "                            dataset\"\"\")"
   ]
  },
  {
   "cell_type": "code",
   "execution_count": 5,
   "id": "56f0893a",
   "metadata": {},
   "outputs": [
    {
     "name": "stdout",
     "output_type": "stream",
     "text": [
      "+---+--------+----------+-----+----------+\n",
      "|sno|  Stocks|  Date_ist|price|moving_avg|\n",
      "+---+--------+----------+-----+----------+\n",
      "|  1|   Apple|2013-01-10|  100|     100.0|\n",
      "|  2|   Apple|2013-01-11|  200|     150.0|\n",
      "|  3|   Apple|2013-01-12|  300|     200.0|\n",
      "|  4|   Apple|2013-01-13|  400|     300.0|\n",
      "|  5|Ericsson|2013-01-14|  500|     500.0|\n",
      "|  6|Ericsson|2013-01-15|  600|     550.0|\n",
      "|  7|Ericsson|2013-01-16|  700|     600.0|\n",
      "|  8|Ericsson|2013-01-17|  800|     700.0|\n",
      "|  9| Walmart|2013-01-18|  900|     900.0|\n",
      "| 10| Walmart|2013-01-19| 1000|     950.0|\n",
      "| 11| Walmart|2013-01-20| 1100|    1000.0|\n",
      "+---+--------+----------+-----+----------+\n",
      "\n"
     ]
    }
   ],
   "source": [
    "avgLastThree.show()"
   ]
  },
  {
   "cell_type": "code",
   "execution_count": 27,
   "id": "9f227ff0",
   "metadata": {
    "scrolled": true
   },
   "outputs": [
    {
     "data": {
      "text/plain": [
       "300.0"
      ]
     },
     "execution_count": 27,
     "metadata": {},
     "output_type": "execute_result"
    }
   ],
   "source": [
    "(200+300+400)/3"
   ]
  },
  {
   "cell_type": "code",
   "execution_count": 6,
   "id": "659660a0",
   "metadata": {},
   "outputs": [
    {
     "name": "stdout",
     "output_type": "stream",
     "text": [
      "root\n",
      " |-- sno: string (nullable = true)\n",
      " |-- Stocks: string (nullable = true)\n",
      " |-- Date_ist: string (nullable = true)\n",
      " |-- price: string (nullable = true)\n",
      " |-- moving_avg: double (nullable = true)\n",
      "\n"
     ]
    }
   ],
   "source": [
    "avgLastThree.printSchema()"
   ]
  },
  {
   "cell_type": "code",
   "execution_count": 22,
   "id": "af3672ad",
   "metadata": {},
   "outputs": [],
   "source": [
    "w= (Window.partitionBy(\"Stocks\").orderBy(\"Date_ist\").rowsBetween(-2,0))"
   ]
  },
  {
   "cell_type": "code",
   "execution_count": 23,
   "id": "d35c54fd",
   "metadata": {},
   "outputs": [],
   "source": [
    "df = read_select.withColumn(\"moving_avg\",f.avg(\"price\").over(w))"
   ]
  },
  {
   "cell_type": "code",
   "execution_count": 24,
   "id": "25a36d0e",
   "metadata": {},
   "outputs": [
    {
     "name": "stdout",
     "output_type": "stream",
     "text": [
      "+---+--------+----------+-----+----------+\n",
      "|sno|  Stocks|  Date_ist|price|moving_avg|\n",
      "+---+--------+----------+-----+----------+\n",
      "|  1|   Apple|2013-01-10|  100|     100.0|\n",
      "|  2|   Apple|2013-01-11|  200|     150.0|\n",
      "|  3|   Apple|2013-01-12|  300|     200.0|\n",
      "|  4|   Apple|2013-01-13|  400|     300.0|\n",
      "|  5|Ericsson|2013-01-14|  500|     500.0|\n",
      "|  6|Ericsson|2013-01-15|  600|     550.0|\n",
      "|  7|Ericsson|2013-01-16|  700|     600.0|\n",
      "|  8|Ericsson|2013-01-17|  800|     700.0|\n",
      "|  9| Walmart|2013-01-18|  900|     900.0|\n",
      "| 10| Walmart|2013-01-19| 1000|     950.0|\n",
      "| 11| Walmart|2013-01-20| 1100|    1000.0|\n",
      "+---+--------+----------+-----+----------+\n",
      "\n"
     ]
    }
   ],
   "source": [
    "df.show()"
   ]
  },
  {
   "cell_type": "code",
   "execution_count": null,
   "id": "5b6fffd5",
   "metadata": {},
   "outputs": [],
   "source": []
  }
 ],
 "metadata": {
  "kernelspec": {
   "display_name": "Python 3 (ipykernel)",
   "language": "python",
   "name": "python3"
  },
  "language_info": {
   "codemirror_mode": {
    "name": "ipython",
    "version": 3
   },
   "file_extension": ".py",
   "mimetype": "text/x-python",
   "name": "python",
   "nbconvert_exporter": "python",
   "pygments_lexer": "ipython3",
   "version": "3.9.12"
  }
 },
 "nbformat": 4,
 "nbformat_minor": 5
}
